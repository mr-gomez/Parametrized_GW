{
 "cells": [
  {
   "cell_type": "code",
   "execution_count": null,
   "id": "0aa72152",
   "metadata": {},
   "outputs": [],
   "source": [
    "# To reload modified python modules\n",
    "%load_ext autoreload\n",
    "%autoreload 2"
   ]
  },
  {
   "cell_type": "code",
   "execution_count": null,
   "id": "b5e80702",
   "metadata": {},
   "outputs": [],
   "source": [
    "import numpy as np\n",
    "import matplotlib.pyplot as plt\n",
    "\n",
    "# Optimal transport\n",
    "from ot.gromov import gromov_wasserstein\n",
    "from utils.gw_ms import gromov_wasserstein_ms, cost_gw, cost_ms\n",
    "\n",
    "# Graph functions\n",
    "import networkx as nx\n",
    "from utils.panda_functions import *\n",
    "\n",
    "folder_figs = \"figures\""
   ]
  },
  {
   "cell_type": "markdown",
   "id": "3649eeb4",
   "metadata": {},
   "source": [
    "# Testing"
   ]
  },
  {
   "cell_type": "markdown",
   "id": "13073e8c",
   "metadata": {},
   "source": [
    "## Test position functions"
   ]
  },
  {
   "cell_type": "code",
   "execution_count": null,
   "id": "4a25ba29",
   "metadata": {},
   "outputs": [],
   "source": [
    "nh = 15\n",
    "ne1 = ne2 = 5\n",
    "ear_dist = 2\n",
    "paste_edge = True\n",
    "push_ears = False\n",
    "\n",
    "i1_1, i1_2, i2_1, i2_2 = paste_to_vertices(nh, ear_dist=ear_dist, paste_edge=paste_edge)\n",
    "\n",
    "X_all = panda_position(\n",
    "    nh, ne1, ne2, ear_dist=ear_dist, paste_edge=paste_edge, push_ears=push_ears\n",
    ")\n",
    "X_head, tt = head_position(nh, i1_end=i1_2, i2_start=i2_1)\n",
    "X_ear1 = ear_position(ne1, X_head, tt, i1=i1_1, i2=i1_2, paste_edge=paste_edge)\n",
    "X_ear2 = ear_position(ne1, X_head, tt, i1=i2_1, i2=i2_2, paste_edge=paste_edge)"
   ]
  },
  {
   "cell_type": "code",
   "execution_count": null,
   "id": "1f079ea7",
   "metadata": {},
   "outputs": [],
   "source": [
    "plt.scatter(X_head[:, 0], X_head[:, 1], s=100)\n",
    "plt.scatter(X_ear1[:, 0], X_ear1[:, 1])\n",
    "plt.scatter(X_ear2[:, 0], X_ear2[:, 1])"
   ]
  },
  {
   "cell_type": "code",
   "execution_count": null,
   "id": "6df66a36",
   "metadata": {},
   "outputs": [],
   "source": [
    "plt.scatter(X_all[:, 0], X_all[:, 1])\n",
    "print(X_all.shape)"
   ]
  },
  {
   "cell_type": "markdown",
   "id": "d7d80cf2",
   "metadata": {},
   "source": [
    "## Check panda generation"
   ]
  },
  {
   "cell_type": "code",
   "execution_count": null,
   "id": "3fb07af2",
   "metadata": {},
   "outputs": [],
   "source": [
    "params = [[15, 5, 5], [20, 7, 7]]\n",
    "nPandas = len(params)\n",
    "nSteps = len(params[0])\n",
    "\n",
    "rng = np.random.default_rng(seed=304)\n",
    "std = 0\n",
    "ear_dist = 2\n",
    "\n",
    "Ns = []\n",
    "Pandas = []\n",
    "Pandas_pos = []\n",
    "dm_pandas = []\n",
    "lCs_pandas = []\n",
    "for idx, param in enumerate(params):\n",
    "    nh = param[0]\n",
    "    ne1 = param[1]\n",
    "    ne2 = param[2]\n",
    "\n",
    "    if idx == 0:\n",
    "        push_ears = False\n",
    "    else:\n",
    "        push_ears = True\n",
    "    N, G, dm, lC = create_panda(\n",
    "        nh,\n",
    "        ne1,\n",
    "        ne2,\n",
    "        ear_dist=ear_dist,\n",
    "        paste_edge=True,\n",
    "        push_ears=push_ears,\n",
    "        rng=rng,\n",
    "        std=std,\n",
    "    )\n",
    "    pos = panda_position(\n",
    "        nh, ne1, ne2, ear_dist=ear_dist, paste_edge=True, push_ears=push_ears\n",
    "    )\n",
    "\n",
    "    Ns.append(N)\n",
    "    Pandas.append(G)\n",
    "    Pandas_pos.append(pos)\n",
    "    dm_pandas.append(dm)\n",
    "    lCs_pandas.append(lC)\n",
    "\n",
    "_ = display_ms_pandas(Pandas, Pandas_pos, dm_pandas, lCs_pandas)"
   ]
  },
  {
   "cell_type": "code",
   "execution_count": null,
   "id": "c3e63514",
   "metadata": {},
   "outputs": [],
   "source": [
    "params = [[15, 5, 5], [15, 5, 5]]\n",
    "nPandas = len(params)\n",
    "nSteps = len(params[0])\n",
    "\n",
    "rng = np.random.default_rng(seed=304)\n",
    "std = 0\n",
    "ear_dist = 2\n",
    "\n",
    "Ns = []\n",
    "Pandas = []\n",
    "Pandas_pos = []\n",
    "dm_pandas = []\n",
    "lCs_pandas = []\n",
    "for idx, param in enumerate(params):\n",
    "    nh = param[0]\n",
    "    ne1 = param[1]\n",
    "    ne2 = param[2]\n",
    "\n",
    "    if idx == 0:\n",
    "        push_ears = False\n",
    "    else:\n",
    "        push_ears = True\n",
    "    N, G, dm, lC = create_panda(\n",
    "        nh,\n",
    "        ne1,\n",
    "        ne2,\n",
    "        ear_dist=ear_dist,\n",
    "        paste_edge=False,\n",
    "        push_ears=push_ears,\n",
    "        rng=rng,\n",
    "        std=std,\n",
    "    )\n",
    "    pos = panda_position(nh, ne1, ne2, ear_dist=ear_dist, push_ears=push_ears)\n",
    "\n",
    "    Ns.append(N)\n",
    "    Pandas.append(G)\n",
    "    Pandas_pos.append(pos)\n",
    "    dm_pandas.append(dm)\n",
    "    lCs_pandas.append(lC)\n",
    "\n",
    "_ = display_ms_pandas(Pandas, Pandas_pos, dm_pandas, lCs_pandas)"
   ]
  },
  {
   "cell_type": "markdown",
   "id": "8d3dcd86",
   "metadata": {},
   "source": [
    "# Experiments"
   ]
  },
  {
   "cell_type": "markdown",
   "id": "a05b3036",
   "metadata": {},
   "source": [
    "## Panda with ears pasted at vertices"
   ]
  },
  {
   "cell_type": "code",
   "execution_count": null,
   "id": "f81f0e96",
   "metadata": {},
   "outputs": [],
   "source": [
    "params = [[25, 10, 10], [30, 12, 12]]\n",
    "nPandas = len(params)\n",
    "nSteps = len(params[0])\n",
    "\n",
    "rng = np.random.default_rng(seed=5500)\n",
    "std = 0.05\n",
    "ear_dist = 6\n",
    "\n",
    "Ns = []\n",
    "Pandas = []\n",
    "Pandas_pos = []\n",
    "dm_pandas = []\n",
    "lCs_pandas = []\n",
    "for idx, param in enumerate(params):\n",
    "    nh = param[0]\n",
    "    ne1 = param[1]\n",
    "    ne2 = param[2]\n",
    "\n",
    "    if idx == 0:\n",
    "        push_ears = False\n",
    "    else:\n",
    "        push_ears = True\n",
    "    N, G, dm, lC = create_panda(\n",
    "        nh,\n",
    "        ne1,\n",
    "        ne2,\n",
    "        paste_edge=False,\n",
    "        ear_dist=ear_dist,\n",
    "        push_ears=push_ears,\n",
    "        add_neighbors=False,\n",
    "        rng=rng,\n",
    "        std=std,\n",
    "    )\n",
    "    pos = panda_position(nh, ne1, ne2, ear_dist=ear_dist, push_ears=push_ears)\n",
    "\n",
    "    Ns.append(N)\n",
    "    Pandas.append(G)\n",
    "    Pandas_pos.append(pos)\n",
    "    dm_pandas.append(dm)\n",
    "    lCs_pandas.append(lC)"
   ]
  },
  {
   "cell_type": "code",
   "execution_count": null,
   "id": "c8671388",
   "metadata": {},
   "outputs": [],
   "source": [
    "_ = display_ms_pandas(Pandas, Pandas_pos, dm_pandas, lCs_pandas)"
   ]
  },
  {
   "cell_type": "code",
   "execution_count": null,
   "id": "28113bea",
   "metadata": {},
   "outputs": [],
   "source": [
    "_ = save_pandas(Pandas, Pandas_pos, dm_pandas, lCs_pandas, folder=folder_figs)"
   ]
  },
  {
   "cell_type": "code",
   "execution_count": null,
   "id": "bf284f25",
   "metadata": {},
   "outputs": [],
   "source": [
    "# Compute GW on distance matrix\n",
    "T_gw0, log = gromov_wasserstein(dm_pandas[0], dm_pandas[1], log=True)\n",
    "dGW0 = log[\"gw_dist\"]\n",
    "\n",
    "# Compute GW at each time\n",
    "Ts_gw = []\n",
    "dGWs = []\n",
    "for idt in range(nSteps):\n",
    "    C1 = lCs_pandas[0][idt]\n",
    "    C2 = lCs_pandas[1][idt]\n",
    "    T, log = gromov_wasserstein(C1, C2, log=True)\n",
    "\n",
    "    Ts_gw.append(T)\n",
    "    dGWs.append(log[\"gw_dist\"])\n",
    "\n",
    "# Compute MS distance\n",
    "T_ms, log_ms = gromov_wasserstein_ms(lCs_pandas[0], lCs_pandas[1], log=True)\n",
    "dMS = log_ms[\"gw_dist\"]"
   ]
  },
  {
   "cell_type": "code",
   "execution_count": null,
   "id": "d04099ba",
   "metadata": {},
   "outputs": [],
   "source": [
    "fig1, axes1 = plt.subplots(1, nSteps, figsize=(10, 3))\n",
    "\n",
    "for idt in range(nSteps):\n",
    "    axes1[idt].imshow(Ts_gw[idt], aspect=\"auto\")\n",
    "    axes1[idt].set_title(\"dGW = %0.2f\" % dGWs[idt])\n",
    "\n",
    "fig2 = plt.figure(figsize=(3, 3))\n",
    "axes2 = plt.gca()\n",
    "axes2.imshow(T_ms, aspect=\"auto\")\n",
    "axes2.set_title(\"dMS = %0.2f\" % dMS)\n",
    "\n",
    "fig4 = plt.figure(figsize=(3, 3))\n",
    "axes4 = plt.gca()\n",
    "axes4.imshow(T_gw0, aspect=\"auto\")\n",
    "axes4.set_title(\"dGW_0 = %0.2f\" % dGW0)"
   ]
  },
  {
   "cell_type": "code",
   "execution_count": null,
   "id": "a9b32a67",
   "metadata": {},
   "outputs": [],
   "source": [
    "# Check which are optimal couplings for GW_0\n",
    "print(\"GW cost of couplings\")\n",
    "print(\"GW:\", cost_gw(T_gw0, dm_pandas[0], dm_pandas[1]))\n",
    "\n",
    "for idt in range(nSteps):\n",
    "    print(\"GW_{}: {}\".format(idt, cost_gw(Ts_gw[idt], dm_pandas[0], dm_pandas[1])))\n",
    "\n",
    "print(\"MS:\", cost_gw(T_ms, dm_pandas[0], dm_pandas[1]))\n",
    "print()\n",
    "\n",
    "print(\"Multiscale cost\")\n",
    "print(\"GW:\", cost_ms(T_gw0, lCs_pandas[0], lCs_pandas[1]))\n",
    "print(\"MS:\", cost_ms(T_ms, lCs_pandas[0], lCs_pandas[1]))"
   ]
  },
  {
   "cell_type": "code",
   "execution_count": null,
   "id": "72f5464f",
   "metadata": {},
   "outputs": [],
   "source": [
    "save_couplings(T_ms, Ts_gw, T_gw0, fs=4, folder=folder_figs)"
   ]
  },
  {
   "cell_type": "markdown",
   "id": "087cfa81",
   "metadata": {},
   "source": [
    "## Repeating a panda experiment to get average values"
   ]
  },
  {
   "cell_type": "code",
   "execution_count": null,
   "id": "54440a52",
   "metadata": {},
   "outputs": [],
   "source": [
    "nReps = 50\n",
    "\n",
    "params = [[25, 10, 10], [30, 12, 12]]\n",
    "nPandas = len(params)\n",
    "nSteps = len(params[0])\n",
    "\n",
    "rng = np.random.default_rng(seed=304)\n",
    "std = 0.05\n",
    "ear_dist = 6\n",
    "\n",
    "dists_gw = np.zeros((nSteps + 1, nReps))\n",
    "dists_ms = np.zeros((1, nReps))\n",
    "\n",
    "for t in range(nReps):\n",
    "    Ns = []\n",
    "    Pandas = []\n",
    "    Pandas_pos = []\n",
    "    dm_pandas = []\n",
    "    lCs_pandas = []\n",
    "    for idx, param in enumerate(params):\n",
    "        nh = param[0]\n",
    "        ne1 = param[1]\n",
    "        ne2 = param[2]\n",
    "\n",
    "        if idx == 0:\n",
    "            push_ears = False\n",
    "        else:\n",
    "            push_ears = True\n",
    "        N, G, dm, lC = create_panda(\n",
    "            nh,\n",
    "            ne1,\n",
    "            ne2,\n",
    "            paste_edge=False,\n",
    "            ear_dist=ear_dist,\n",
    "            push_ears=push_ears,\n",
    "            add_neighbors=True,\n",
    "            rng=rng,\n",
    "            std=std,\n",
    "        )\n",
    "        pos = panda_position(nh, ne1, ne2, ear_dist=ear_dist, push_ears=push_ears)\n",
    "\n",
    "        Ns.append(N)\n",
    "        Pandas.append(G)\n",
    "        Pandas_pos.append(pos)\n",
    "        dm_pandas.append(dm)\n",
    "        lCs_pandas.append(lC)\n",
    "\n",
    "    # Compute GW on distance matrix\n",
    "    T_gw0, log = gromov_wasserstein(dm_pandas[0], dm_pandas[1], log=True)\n",
    "    dGW0 = log[\"gw_dist\"]\n",
    "\n",
    "    # Compute GW at each time\n",
    "    Ts_gw = []\n",
    "    dGWs = []\n",
    "    for idt in range(nSteps):\n",
    "        C1 = lCs_pandas[0][idt]\n",
    "        C2 = lCs_pandas[1][idt]\n",
    "        T, log = gromov_wasserstein(C1, C2, log=True)\n",
    "\n",
    "        Ts_gw.append(T)\n",
    "        dGWs.append(log[\"gw_dist\"])\n",
    "\n",
    "    # Compute MS distance\n",
    "    T_ms, log_ms = gromov_wasserstein_ms(lCs_pandas[0], lCs_pandas[1], log=True)\n",
    "    dMS = log_ms[\"gw_dist\"]\n",
    "\n",
    "    # Store the GW cost of the optimal couplings\n",
    "    # GW_0\n",
    "    dists_gw[0, t] = cost_gw(T_gw0, dm_pandas[0], dm_pandas[1])\n",
    "\n",
    "    # GW_t\n",
    "    for idt in range(nSteps):\n",
    "        dists_gw[idt + 1, t] = cost_gw(Ts_gw[idt], dm_pandas[0], dm_pandas[1])\n",
    "\n",
    "    # MS\n",
    "    dists_ms[0, t] = cost_gw(T_ms, dm_pandas[0], dm_pandas[1])"
   ]
  },
  {
   "cell_type": "code",
   "execution_count": null,
   "id": "b84d2f1b",
   "metadata": {},
   "outputs": [],
   "source": [
    "plt.figure()\n",
    "plt.plot(dists_gw.T)\n",
    "plt.legend([\"Full panda\", \"Head\", \"Ear 1\", \"Ear 2\"])\n",
    "plt.title(\"GW cost at each coupling\")"
   ]
  },
  {
   "cell_type": "code",
   "execution_count": null,
   "id": "06ad6a16",
   "metadata": {},
   "outputs": [],
   "source": [
    "plt.figure()\n",
    "plt.plot(dists_ms.T)\n",
    "plt.title(\"GW cost of MS coupling\")"
   ]
  },
  {
   "cell_type": "code",
   "execution_count": null,
   "id": "e4730d9c",
   "metadata": {},
   "outputs": [],
   "source": [
    "# Compute averages\n",
    "print(\"GW averages, std dev:\")\n",
    "print(np.mean(dists_gw, axis=1))\n",
    "print(np.std(dists_gw, axis=1))\n",
    "print()\n",
    "\n",
    "print(\"MS average, std dev:\")\n",
    "print(np.mean(dists_ms, axis=1))\n",
    "print(np.std(dists_ms, axis=1))"
   ]
  },
  {
   "cell_type": "markdown",
   "id": "c6de7658",
   "metadata": {},
   "source": [
    "## Pandas with ears pasted at an edge"
   ]
  },
  {
   "cell_type": "code",
   "execution_count": null,
   "id": "35156778",
   "metadata": {},
   "outputs": [],
   "source": [
    "params = [[25, 10, 10], [30, 12, 12]]\n",
    "nPandas = len(params)\n",
    "nSteps = len(params[0])\n",
    "\n",
    "rng = np.random.default_rng(seed=304)\n",
    "std = 0.05\n",
    "ear_dist = 5\n",
    "\n",
    "Ns = []\n",
    "Pandas = []\n",
    "Pandas_pos = []\n",
    "dm_pandas = []\n",
    "lCs_pandas = []\n",
    "for idx, param in enumerate(params):\n",
    "    nh = param[0]\n",
    "    ne1 = param[1]\n",
    "    ne2 = param[2]\n",
    "\n",
    "    if idx == 0:\n",
    "        push_ears = False\n",
    "    else:\n",
    "        push_ears = True\n",
    "    N, G, dm, lC = create_panda(\n",
    "        nh,\n",
    "        ne1,\n",
    "        ne2,\n",
    "        paste_edge=True,\n",
    "        ear_dist=ear_dist,\n",
    "        push_ears=push_ears,\n",
    "        rng=rng,\n",
    "        std=std,\n",
    "    )\n",
    "    pos = panda_position(\n",
    "        nh, ne1, ne2, paste_edge=True, ear_dist=ear_dist, push_ears=push_ears\n",
    "    )\n",
    "\n",
    "    Ns.append(N)\n",
    "    Pandas.append(G)\n",
    "    Pandas_pos.append(pos)\n",
    "    dm_pandas.append(dm)\n",
    "    lCs_pandas.append(lC)"
   ]
  },
  {
   "cell_type": "code",
   "execution_count": null,
   "id": "b3f46ac0",
   "metadata": {},
   "outputs": [],
   "source": [
    "_ = display_ms_pandas(Pandas, Pandas_pos, dm_pandas, lCs_pandas)"
   ]
  },
  {
   "cell_type": "code",
   "execution_count": null,
   "id": "2da08452",
   "metadata": {},
   "outputs": [],
   "source": [
    "# Compute GW at each time\n",
    "Ts_gw = []\n",
    "dGWs = []\n",
    "for idt in range(nSteps):\n",
    "    C1 = lCs_pandas[0][idt]\n",
    "    C2 = lCs_pandas[1][idt]\n",
    "    T, log = gromov_wasserstein(C1, C2, log=True)\n",
    "\n",
    "    Ts_gw.append(T)\n",
    "    dGWs.append(log[\"gw_dist\"])\n",
    "\n",
    "# Compute MS distance\n",
    "T_ms, log_ms = gromov_wasserstein_ms(lCs_pandas[0], lCs_pandas[1], log=True)\n",
    "dMS = log_ms[\"gw_dist\"]"
   ]
  },
  {
   "cell_type": "code",
   "execution_count": null,
   "id": "71fdf02f",
   "metadata": {},
   "outputs": [],
   "source": [
    "fig1, axes1 = plt.subplots(1, nSteps, figsize=(10, 3))\n",
    "\n",
    "for idt in range(nSteps):\n",
    "    axes1[idt].imshow(Ts_gw[idt], aspect=\"auto\")\n",
    "    axes1[idt].set_title(\"dGW = %0.2f\" % dGWs[idt])\n",
    "\n",
    "fig2 = plt.figure(figsize=(3, 3))\n",
    "axes2 = plt.gca()\n",
    "axes2.imshow(T_ms, aspect=\"auto\")\n",
    "axes2.set_title(\"dMS = %0.2f\" % dMS)"
   ]
  },
  {
   "cell_type": "code",
   "execution_count": null,
   "id": "909e2dea",
   "metadata": {},
   "outputs": [],
   "source": []
  }
 ],
 "metadata": {
  "kernelspec": {
   "display_name": "ot",
   "language": "python",
   "name": "python3"
  },
  "language_info": {
   "codemirror_mode": {
    "name": "ipython",
    "version": 3
   },
   "file_extension": ".py",
   "mimetype": "text/x-python",
   "name": "python",
   "nbconvert_exporter": "python",
   "pygments_lexer": "ipython3",
   "version": "3.11.7"
  }
 },
 "nbformat": 4,
 "nbformat_minor": 5
}
